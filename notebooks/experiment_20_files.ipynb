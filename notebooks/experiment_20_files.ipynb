{
 "cells": [
  {
   "cell_type": "code",
   "execution_count": 33,
   "metadata": {},
   "outputs": [],
   "source": [
    "import librosa, numpy as np, scipy, matplotlib, sklearn, pandas as pd"
   ]
  },
  {
   "cell_type": "code",
   "execution_count": 34,
   "metadata": {},
   "outputs": [
    {
     "data": {
      "text/html": [
       "<div>\n",
       "<style scoped>\n",
       "    .dataframe tbody tr th:only-of-type {\n",
       "        vertical-align: middle;\n",
       "    }\n",
       "\n",
       "    .dataframe tbody tr th {\n",
       "        vertical-align: top;\n",
       "    }\n",
       "\n",
       "    .dataframe thead th {\n",
       "        text-align: right;\n",
       "    }\n",
       "</style>\n",
       "<table border=\"1\" class=\"dataframe\">\n",
       "  <thead>\n",
       "    <tr style=\"text-align: right;\">\n",
       "      <th></th>\n",
       "      <th>id</th>\n",
       "      <th>text</th>\n",
       "    </tr>\n",
       "  </thead>\n",
       "  <tbody>\n",
       "    <tr>\n",
       "      <th>0</th>\n",
       "      <td>common_voice_en_40865211.mp3</td>\n",
       "      <td>With this transition to the big time, the band...</td>\n",
       "    </tr>\n",
       "    <tr>\n",
       "      <th>1</th>\n",
       "      <td>common_voice_en_40865212.mp3</td>\n",
       "      <td>Local brothels recruited extra staff to cope w...</td>\n",
       "    </tr>\n",
       "    <tr>\n",
       "      <th>2</th>\n",
       "      <td>common_voice_en_40865213.mp3</td>\n",
       "      <td>With Fox on lead vocals, the threesome did two...</td>\n",
       "    </tr>\n",
       "    <tr>\n",
       "      <th>3</th>\n",
       "      <td>common_voice_en_40865214.mp3</td>\n",
       "      <td>Miramax requested cuts be made and Christopher...</td>\n",
       "    </tr>\n",
       "    <tr>\n",
       "      <th>4</th>\n",
       "      <td>common_voice_en_40865215.mp3</td>\n",
       "      <td>The Key allows customers to buy Plusbus for th...</td>\n",
       "    </tr>\n",
       "    <tr>\n",
       "      <th>5</th>\n",
       "      <td>common_voice_en_40865221.mp3</td>\n",
       "      <td>In this position he learnt mathematics, Greek,...</td>\n",
       "    </tr>\n",
       "    <tr>\n",
       "      <th>6</th>\n",
       "      <td>common_voice_en_40865222.mp3</td>\n",
       "      <td>My books and my stories.</td>\n",
       "    </tr>\n",
       "    <tr>\n",
       "      <th>7</th>\n",
       "      <td>common_voice_en_40865223.mp3</td>\n",
       "      <td>They followed the streetcar lines to areas sou...</td>\n",
       "    </tr>\n",
       "    <tr>\n",
       "      <th>8</th>\n",
       "      <td>common_voice_en_40865224.mp3</td>\n",
       "      <td>She herself defended her verse as holy erotica.</td>\n",
       "    </tr>\n",
       "    <tr>\n",
       "      <th>9</th>\n",
       "      <td>common_voice_en_40865225.mp3</td>\n",
       "      <td>In the pamphlet What is to be Done?</td>\n",
       "    </tr>\n",
       "  </tbody>\n",
       "</table>\n",
       "</div>"
      ],
      "text/plain": [
       "                             id  \\\n",
       "0  common_voice_en_40865211.mp3   \n",
       "1  common_voice_en_40865212.mp3   \n",
       "2  common_voice_en_40865213.mp3   \n",
       "3  common_voice_en_40865214.mp3   \n",
       "4  common_voice_en_40865215.mp3   \n",
       "5  common_voice_en_40865221.mp3   \n",
       "6  common_voice_en_40865222.mp3   \n",
       "7  common_voice_en_40865223.mp3   \n",
       "8  common_voice_en_40865224.mp3   \n",
       "9  common_voice_en_40865225.mp3   \n",
       "\n",
       "                                                text  \n",
       "0  With this transition to the big time, the band...  \n",
       "1  Local brothels recruited extra staff to cope w...  \n",
       "2  With Fox on lead vocals, the threesome did two...  \n",
       "3  Miramax requested cuts be made and Christopher...  \n",
       "4  The Key allows customers to buy Plusbus for th...  \n",
       "5  In this position he learnt mathematics, Greek,...  \n",
       "6                           My books and my stories.  \n",
       "7  They followed the streetcar lines to areas sou...  \n",
       "8    She herself defended her verse as holy erotica.  \n",
       "9                In the pamphlet What is to be Done?  "
      ]
     },
     "execution_count": 34,
     "metadata": {},
     "output_type": "execute_result"
    }
   ],
   "source": [
    "from gtts import gTTS\n",
    "import os\n",
    "\n",
    "transcripts = pd.read_csv('./real/transcripts/transcripts.csv')\n",
    "transcripts.head(10)"
   ]
  },
  {
   "cell_type": "markdown",
   "metadata": {},
   "source": [
    "Let's transform the wav to mp3 since wav is lossless"
   ]
  },
  {
   "cell_type": "code",
   "execution_count": 35,
   "metadata": {},
   "outputs": [],
   "source": [
    "from pydub import AudioSegment\n",
    "\n",
    "input_dir = \"./real/original_audio\"\n",
    "output_dir = \"./real/audio\"\n",
    "os.makedirs(output_dir, exist_ok=True)\n",
    "\n",
    "for file in os.listdir(output_dir):\n",
    "    if file.endswith('.wav'):\n",
    "        os.remove(os.path.join(output_dir, file))\n",
    "        \n",
    "for fname in os.listdir(input_dir):\n",
    "    if fname.endswith(\".mp3\"):\n",
    "        mp3_path = os.path.join(input_dir, fname)\n",
    "        wav_path = os.path.join(output_dir, fname.replace(\".mp3\", \".wav\"))\n",
    "        audio = AudioSegment.from_mp3(mp3_path)\n",
    "        audio.export(wav_path, format=\"wav\")"
   ]
  },
  {
   "cell_type": "code",
   "execution_count": 36,
   "metadata": {},
   "outputs": [
    {
     "name": "stdout",
     "output_type": "stream",
     "text": [
      "60 audio files saved in ./fake/audio\n"
     ]
    }
   ],
   "source": [
    "output_dir = './fake/audio'\n",
    "os.makedirs(output_dir, exist_ok=True)\n",
    "\n",
    "for file in os.listdir(output_dir):\n",
    "    if file.endswith('.wav'):\n",
    "        os.remove(os.path.join(output_dir, file))\n",
    "\n",
    "for index, row in transcripts.iterrows():\n",
    "    text = row['text']\n",
    "    id = row['id']\n",
    "    tts = gTTS(text=text, lang='en')\n",
    "    filename = f\"{id}_fake.wav\"\n",
    "    tts.save(os.path.join(output_dir, filename))\n",
    "\n",
    "print(f'{len(transcripts)} audio files saved in {output_dir}')"
   ]
  },
  {
   "cell_type": "code",
   "execution_count": 55,
   "metadata": {},
   "outputs": [
    {
     "data": {
      "text/html": [
       "<div>\n",
       "<style scoped>\n",
       "    .dataframe tbody tr th:only-of-type {\n",
       "        vertical-align: middle;\n",
       "    }\n",
       "\n",
       "    .dataframe tbody tr th {\n",
       "        vertical-align: top;\n",
       "    }\n",
       "\n",
       "    .dataframe thead th {\n",
       "        text-align: right;\n",
       "    }\n",
       "</style>\n",
       "<table border=\"1\" class=\"dataframe\">\n",
       "  <thead>\n",
       "    <tr style=\"text-align: right;\">\n",
       "      <th></th>\n",
       "      <th>file</th>\n",
       "      <th>label</th>\n",
       "    </tr>\n",
       "  </thead>\n",
       "  <tbody>\n",
       "    <tr>\n",
       "      <th>0</th>\n",
       "      <td>./real/audio/common_voice_en_40865223.wav</td>\n",
       "      <td>real</td>\n",
       "    </tr>\n",
       "    <tr>\n",
       "      <th>1</th>\n",
       "      <td>./real/audio/common_voice_en_40865222.wav</td>\n",
       "      <td>real</td>\n",
       "    </tr>\n",
       "    <tr>\n",
       "      <th>2</th>\n",
       "      <td>./real/audio/common_voice_en_40865221.wav</td>\n",
       "      <td>real</td>\n",
       "    </tr>\n",
       "    <tr>\n",
       "      <th>3</th>\n",
       "      <td>./real/audio/common_voice_en_40865225.wav</td>\n",
       "      <td>real</td>\n",
       "    </tr>\n",
       "    <tr>\n",
       "      <th>4</th>\n",
       "      <td>./real/audio/common_voice_en_40865224.wav</td>\n",
       "      <td>real</td>\n",
       "    </tr>\n",
       "  </tbody>\n",
       "</table>\n",
       "</div>"
      ],
      "text/plain": [
       "                                        file label\n",
       "0  ./real/audio/common_voice_en_40865223.wav  real\n",
       "1  ./real/audio/common_voice_en_40865222.wav  real\n",
       "2  ./real/audio/common_voice_en_40865221.wav  real\n",
       "3  ./real/audio/common_voice_en_40865225.wav  real\n",
       "4  ./real/audio/common_voice_en_40865224.wav  real"
      ]
     },
     "execution_count": 55,
     "metadata": {},
     "output_type": "execute_result"
    }
   ],
   "source": [
    "real_dir = './real/audio'\n",
    "fake_dir = './fake/audio'\n",
    "\n",
    "data = []\n",
    "\n",
    "for fname in os.listdir(real_dir):\n",
    "    if fname.endswith('.wav'):\n",
    "        data.append({\"file\": os.path.join(real_dir, fname), \"label\": \"real\"})\n",
    "\n",
    "for fname in os.listdir(fake_dir):\n",
    "    if fname.endswith('.wav'):\n",
    "        data.append({\"file\": os.path.join(fake_dir, fname), \"label\": \"fake\"})\n",
    "\n",
    "labeled_data = pd.DataFrame(data)\n",
    "labeled_data.head()\n",
    "\n",
    "\n",
    "\n"
   ]
  },
  {
   "cell_type": "markdown",
   "metadata": {},
   "source": [
    "**Definition**: MFCCs represent the short-term power spectrum of a sound, based on a linear cosine transform of a log power spectrum on a nonlinear mel scale of frequency. They aim to mimic the way humans perceive sound, especially how we’re more sensitive to certain frequency ranges (like speech).\n"
   ]
  },
  {
   "cell_type": "code",
   "execution_count": 56,
   "metadata": {},
   "outputs": [],
   "source": [
    "def extract_mfcc(path, n_mfcc=13):\n",
    "    y, sr = librosa.load(path, sr=None)\n",
    "    mfcc = librosa.feature.mfcc(y=y, sr=sr, n_mfcc=n_mfcc)\n",
    "    mfcc_mean = np.mean(mfcc, axis=1)\n",
    "    return mfcc_mean\n",
    "\n",
    "labeled_data[\"features\"] = labeled_data[\"file\"].apply(extract_mfcc)"
   ]
  },
  {
   "cell_type": "code",
   "execution_count": 57,
   "metadata": {},
   "outputs": [
    {
     "data": {
      "text/html": [
       "<div>\n",
       "<style scoped>\n",
       "    .dataframe tbody tr th:only-of-type {\n",
       "        vertical-align: middle;\n",
       "    }\n",
       "\n",
       "    .dataframe tbody tr th {\n",
       "        vertical-align: top;\n",
       "    }\n",
       "\n",
       "    .dataframe thead th {\n",
       "        text-align: right;\n",
       "    }\n",
       "</style>\n",
       "<table border=\"1\" class=\"dataframe\">\n",
       "  <thead>\n",
       "    <tr style=\"text-align: right;\">\n",
       "      <th></th>\n",
       "      <th>file</th>\n",
       "      <th>label</th>\n",
       "      <th>features</th>\n",
       "    </tr>\n",
       "  </thead>\n",
       "  <tbody>\n",
       "    <tr>\n",
       "      <th>0</th>\n",
       "      <td>./real/audio/common_voice_en_40865223.wav</td>\n",
       "      <td>real</td>\n",
       "      <td>[-449.27832, 118.24586, 9.201565, -13.953555, ...</td>\n",
       "    </tr>\n",
       "    <tr>\n",
       "      <th>1</th>\n",
       "      <td>./real/audio/common_voice_en_40865222.wav</td>\n",
       "      <td>real</td>\n",
       "      <td>[-462.9273, 79.29145, -0.20513293, -0.6315125,...</td>\n",
       "    </tr>\n",
       "    <tr>\n",
       "      <th>2</th>\n",
       "      <td>./real/audio/common_voice_en_40865221.wav</td>\n",
       "      <td>real</td>\n",
       "      <td>[-443.14944, 121.675804, 2.2551014, 5.425762, ...</td>\n",
       "    </tr>\n",
       "    <tr>\n",
       "      <th>3</th>\n",
       "      <td>./real/audio/common_voice_en_40865225.wav</td>\n",
       "      <td>real</td>\n",
       "      <td>[-502.19363, 117.22501, 9.464894, -5.7915406, ...</td>\n",
       "    </tr>\n",
       "    <tr>\n",
       "      <th>4</th>\n",
       "      <td>./real/audio/common_voice_en_40865224.wav</td>\n",
       "      <td>real</td>\n",
       "      <td>[-445.36395, 109.39663, 3.058637, -3.7816339, ...</td>\n",
       "    </tr>\n",
       "  </tbody>\n",
       "</table>\n",
       "</div>"
      ],
      "text/plain": [
       "                                        file label  \\\n",
       "0  ./real/audio/common_voice_en_40865223.wav  real   \n",
       "1  ./real/audio/common_voice_en_40865222.wav  real   \n",
       "2  ./real/audio/common_voice_en_40865221.wav  real   \n",
       "3  ./real/audio/common_voice_en_40865225.wav  real   \n",
       "4  ./real/audio/common_voice_en_40865224.wav  real   \n",
       "\n",
       "                                            features  \n",
       "0  [-449.27832, 118.24586, 9.201565, -13.953555, ...  \n",
       "1  [-462.9273, 79.29145, -0.20513293, -0.6315125,...  \n",
       "2  [-443.14944, 121.675804, 2.2551014, 5.425762, ...  \n",
       "3  [-502.19363, 117.22501, 9.464894, -5.7915406, ...  \n",
       "4  [-445.36395, 109.39663, 3.058637, -3.7816339, ...  "
      ]
     },
     "execution_count": 57,
     "metadata": {},
     "output_type": "execute_result"
    }
   ],
   "source": [
    "labeled_data.head()"
   ]
  },
  {
   "cell_type": "code",
   "execution_count": 58,
   "metadata": {},
   "outputs": [],
   "source": [
    "from sklearn.model_selection import train_test_split\n",
    "\n",
    "X = np.stack(labeled_data[\"features\"].values)\n",
    "y = labeled_data[\"label\"].map({\"real\": 0, \"fake\": 1}).values  \n",
    "\n",
    "X_train, X_test, y_train, y_test = train_test_split(X, y, stratify=y, test_size=0.2, random_state=42)"
   ]
  },
  {
   "cell_type": "code",
   "execution_count": 59,
   "metadata": {},
   "outputs": [
    {
     "data": {
      "text/plain": [
       "array([0, 0, 0, 0, 0, 0, 0, 0, 0, 0, 0, 0, 0, 0, 0, 0, 0, 0, 0, 0, 0, 0,\n",
       "       0, 0, 0, 0, 0, 0, 0, 0, 0, 0, 0, 0, 0, 0, 0, 0, 0, 0, 0, 0, 0, 0,\n",
       "       0, 0, 0, 0, 0, 0, 0, 0, 0, 0, 0, 0, 0, 0, 0, 0, 1, 1, 1, 1, 1, 1,\n",
       "       1, 1, 1, 1, 1, 1, 1, 1, 1, 1, 1, 1, 1, 1, 1, 1, 1, 1, 1, 1, 1, 1,\n",
       "       1, 1, 1, 1, 1, 1, 1, 1, 1, 1, 1, 1, 1, 1, 1, 1, 1, 1, 1, 1, 1, 1,\n",
       "       1, 1, 1, 1, 1, 1, 1, 1, 1])"
      ]
     },
     "execution_count": 59,
     "metadata": {},
     "output_type": "execute_result"
    }
   ],
   "source": [
    "y"
   ]
  },
  {
   "cell_type": "code",
   "execution_count": 60,
   "metadata": {},
   "outputs": [
    {
     "name": "stdout",
     "output_type": "stream",
     "text": [
      "Train labels: 0    48\n",
      "1    47\n",
      "dtype: int64\n",
      "Test labels: 1    12\n",
      "0    12\n",
      "dtype: int64\n"
     ]
    }
   ],
   "source": [
    "print(\"Train labels:\", pd.Series(y_train).value_counts())\n",
    "print(\"Test labels:\", pd.Series(y_test).value_counts())"
   ]
  },
  {
   "cell_type": "code",
   "execution_count": 61,
   "metadata": {},
   "outputs": [
    {
     "name": "stdout",
     "output_type": "stream",
     "text": [
      "              precision    recall  f1-score   support\n",
      "\n",
      "           0       1.00      1.00      1.00        12\n",
      "           1       1.00      1.00      1.00        12\n",
      "\n",
      "    accuracy                           1.00        24\n",
      "   macro avg       1.00      1.00      1.00        24\n",
      "weighted avg       1.00      1.00      1.00        24\n",
      "\n"
     ]
    }
   ],
   "source": [
    "from sklearn.ensemble import RandomForestClassifier\n",
    "from sklearn.metrics import classification_report, confusion_matrix\n",
    "\n",
    "clf = RandomForestClassifier(n_estimators=100, random_state=42)\n",
    "clf.fit(X_train, y_train)\n",
    "\n",
    "y_pred = clf.predict(X_test)\n",
    "print(classification_report(y_test, y_pred))"
   ]
  },
  {
   "cell_type": "code",
   "execution_count": 62,
   "metadata": {},
   "outputs": [
    {
     "data": {
      "image/png": "[encoded data removed]",
      "text/plain": [
       "<Figure size 640x480 with 2 Axes>"
      ]
     },
     "metadata": {},
     "output_type": "display_data"
    }
   ],
   "source": [
    "import seaborn as sns\n",
    "import matplotlib.pyplot as plt\n",
    "from sklearn.metrics import confusion_matrix\n",
    "\n",
    "cm = confusion_matrix(y_test, y_pred)\n",
    "\n",
    "sns.heatmap(cm, annot=True, fmt=\"d\", cmap=\"Blues\", xticklabels=[\"Real\", \"Fake\"], yticklabels=[\"Real\", \"Fake\"])\n",
    "plt.xlabel(\"Predicted\")\n",
    "plt.ylabel(\"True\")\n",
    "plt.title(\"Confusion Matrix\")\n",
    "plt.show()"
   ]
  },
  {
   "cell_type": "markdown",
   "metadata": {},
   "source": [
    "This are not good numbers for generalization. Maybe adding more samples will help out"
   ]
  },
  {
   "cell_type": "code",
   "execution_count": 63,
   "metadata": {},
   "outputs": [
    {
     "name": "stdout",
     "output_type": "stream",
     "text": [
      "1    12\n",
      "0    12\n",
      "dtype: int64\n"
     ]
    }
   ],
   "source": [
    "print(pd.Series(y_test).value_counts())"
   ]
  },
  {
   "cell_type": "code",
   "execution_count": 64,
   "metadata": {},
   "outputs": [
    {
     "data": {
      "image/png": "[encoded data removed]",
      "text/plain": [
       "<Figure size 800x600 with 2 Axes>"
      ]
     },
     "metadata": {},
     "output_type": "display_data"
    }
   ],
   "source": [
    "from sklearn.decomposition import PCA\n",
    "import matplotlib.pyplot as plt\n",
    "\n",
    "X = np.stack(labeled_data[\"features\"].values)\n",
    "y = labeled_data[\"label\"].map({\"real\": 0, \"fake\": 1}).values\n",
    "\n",
    "pca = PCA(n_components=2)\n",
    "X_pca = pca.fit_transform(X)\n",
    "\n",
    "plt.figure(figsize=(8, 6))\n",
    "plt.scatter(X_pca[:, 0], X_pca[:, 1], c=y, cmap='coolwarm', alpha=0.7)\n",
    "plt.title(\"PCA of MFCC Features\")\n",
    "plt.xlabel(\"PC1\")\n",
    "plt.ylabel(\"PC2\")\n",
    "plt.colorbar(label='Label (0=Real, 1=Fake)')\n",
    "plt.show()"
   ]
  },
  {
   "cell_type": "code",
   "execution_count": 65,
   "metadata": {},
   "outputs": [
    {
     "data": {
      "text/html": [
       "<div>\n",
       "<style scoped>\n",
       "    .dataframe tbody tr th:only-of-type {\n",
       "        vertical-align: middle;\n",
       "    }\n",
       "\n",
       "    .dataframe tbody tr th {\n",
       "        vertical-align: top;\n",
       "    }\n",
       "\n",
       "    .dataframe thead th {\n",
       "        text-align: right;\n",
       "    }\n",
       "</style>\n",
       "<table border=\"1\" class=\"dataframe\">\n",
       "  <thead>\n",
       "    <tr style=\"text-align: right;\">\n",
       "      <th></th>\n",
       "      <th>count</th>\n",
       "      <th>mean</th>\n",
       "      <th>std</th>\n",
       "      <th>min</th>\n",
       "      <th>25%</th>\n",
       "      <th>50%</th>\n",
       "      <th>75%</th>\n",
       "      <th>max</th>\n",
       "    </tr>\n",
       "    <tr>\n",
       "      <th>label</th>\n",
       "      <th></th>\n",
       "      <th></th>\n",
       "      <th></th>\n",
       "      <th></th>\n",
       "      <th></th>\n",
       "      <th></th>\n",
       "      <th></th>\n",
       "      <th></th>\n",
       "    </tr>\n",
       "  </thead>\n",
       "  <tbody>\n",
       "    <tr>\n",
       "      <th>fake</th>\n",
       "      <td>59.0</td>\n",
       "      <td>4.744271</td>\n",
       "      <td>1.413869</td>\n",
       "      <td>2.328</td>\n",
       "      <td>3.780</td>\n",
       "      <td>4.872</td>\n",
       "      <td>5.424</td>\n",
       "      <td>10.896</td>\n",
       "    </tr>\n",
       "    <tr>\n",
       "      <th>real</th>\n",
       "      <td>60.0</td>\n",
       "      <td>6.698400</td>\n",
       "      <td>2.002080</td>\n",
       "      <td>3.204</td>\n",
       "      <td>5.382</td>\n",
       "      <td>6.120</td>\n",
       "      <td>8.289</td>\n",
       "      <td>11.520</td>\n",
       "    </tr>\n",
       "  </tbody>\n",
       "</table>\n",
       "</div>"
      ],
      "text/plain": [
       "       count      mean       std    min    25%    50%    75%     max\n",
       "label                                                               \n",
       "fake    59.0  4.744271  1.413869  2.328  3.780  4.872  5.424  10.896\n",
       "real    60.0  6.698400  2.002080  3.204  5.382  6.120  8.289  11.520"
      ]
     },
     "execution_count": 65,
     "metadata": {},
     "output_type": "execute_result"
    }
   ],
   "source": [
    "def get_duration(path):\n",
    "    y, sr = librosa.load(path, sr=None)\n",
    "    return librosa.get_duration(y=y, sr=sr)\n",
    "\n",
    "labeled_data[\"duration\"] = labeled_data[\"file\"].apply(get_duration)\n",
    "labeled_data.groupby(\"label\")[\"duration\"].describe()"
   ]
  },
  {
   "cell_type": "code",
   "execution_count": null,
   "metadata": {},
   "outputs": [],
   "source": []
  }
 ],
 "metadata": {
  "kernelspec": {
   "display_name": "machine_learning_env",
   "language": "python",
   "name": "python3"
  },
  "language_info": {
   "codemirror_mode": {
    "name": "ipython",
    "version": 3
   },
   "file_extension": ".py",
   "mimetype": "text/x-python",
   "name": "python",
   "nbconvert_exporter": "python",
   "pygments_lexer": "ipython3",
   "version": "3.11.0"
  }
 },
 "nbformat": 4,
 "nbformat_minor": 2
}
